{
 "cells": [
  {
   "cell_type": "code",
   "execution_count": 6,
   "id": "e444ea66-2169-49b8-bb51-b18736b387bd",
   "metadata": {},
   "outputs": [
    {
     "ename": "ModuleNotFoundError",
     "evalue": "No module named 'pandas'",
     "output_type": "error",
     "traceback": [
      "\u001b[1;31m---------------------------------------------------------------------------\u001b[0m",
      "\u001b[1;31mModuleNotFoundError\u001b[0m                       Traceback (most recent call last)",
      "\u001b[1;32mc:\\Users\\User\\Documents\\GitHub\\Dashboards\\Python\\Salesanalysis-dash\\Gráficos.ipynb Cell 1\u001b[0m line \u001b[0;36m1\n\u001b[1;32m----> <a href='vscode-notebook-cell:/c%3A/Users/User/Documents/GitHub/Dashboards/Python/Salesanalysis-dash/Gr%C3%A1ficos.ipynb#W0sZmlsZQ%3D%3D?line=0'>1</a>\u001b[0m \u001b[39mimport\u001b[39;00m \u001b[39mpandas\u001b[39;00m \u001b[39mas\u001b[39;00m \u001b[39mpd\u001b[39;00m\n\u001b[0;32m      <a href='vscode-notebook-cell:/c%3A/Users/User/Documents/GitHub/Dashboards/Python/Salesanalysis-dash/Gr%C3%A1ficos.ipynb#W0sZmlsZQ%3D%3D?line=1'>2</a>\u001b[0m \u001b[39mimport\u001b[39;00m \u001b[39mplotly\u001b[39;00m\u001b[39m.\u001b[39;00m\u001b[39mgraph_objects\u001b[39;00m \u001b[39mas\u001b[39;00m \u001b[39mgo\u001b[39;00m\n\u001b[0;32m      <a href='vscode-notebook-cell:/c%3A/Users/User/Documents/GitHub/Dashboards/Python/Salesanalysis-dash/Gr%C3%A1ficos.ipynb#W0sZmlsZQ%3D%3D?line=2'>3</a>\u001b[0m \u001b[39mimport\u001b[39;00m \u001b[39mplotly\u001b[39;00m\u001b[39m.\u001b[39;00m\u001b[39mexpress\u001b[39;00m \u001b[39mas\u001b[39;00m \u001b[39mpx\u001b[39;00m\n",
      "\u001b[1;31mModuleNotFoundError\u001b[0m: No module named 'pandas'"
     ]
    }
   ],
   "source": [
    "import pandas as pd\n",
    "import plotly.graph_objects as go\n",
    "import plotly.express as px"
   ]
  },
  {
   "cell_type": "code",
   "execution_count": null,
   "id": "68c9c921-e77b-47c0-b5df-755185ac0076",
   "metadata": {},
   "outputs": [],
   "source": [
    "df = pd.read_csv('dataset_asimov.csv')"
   ]
  },
  {
   "cell_type": "code",
   "execution_count": null,
   "id": "52e32b73-2d3c-4c02-9883-6ebbf4d7d825",
   "metadata": {},
   "outputs": [],
   "source": [
    "df.loc[ df['Mês'] == 'Jan', 'Mês'] = 1\n",
    "df.loc[ df['Mês'] == 'Fev', 'Mês'] = 2\n",
    "df.loc[ df['Mês'] == 'Mar', 'Mês'] = 3\n",
    "df.loc[ df['Mês'] == 'Abr', 'Mês'] = 4\n",
    "df.loc[ df['Mês'] == 'Mai', 'Mês'] = 5\n",
    "df.loc[ df['Mês'] == 'Jun', 'Mês'] = 6\n",
    "df.loc[ df['Mês'] == 'Jul', 'Mês'] = 7\n",
    "df.loc[ df['Mês'] == 'Ago', 'Mês'] = 8\n",
    "df.loc[ df['Mês'] == 'Set', 'Mês'] = 9\n",
    "df.loc[ df['Mês'] == 'Out', 'Mês'] = 10\n",
    "df.loc[ df['Mês'] == 'Nov', 'Mês'] = 11\n",
    "df.loc[ df['Mês'] == 'Dez', 'Mês'] = 12"
   ]
  },
  {
   "cell_type": "code",
   "execution_count": null,
   "id": "081bcc49-c617-477f-a1af-131376bdc6e8",
   "metadata": {},
   "outputs": [],
   "source": [
    "df"
   ]
  },
  {
   "cell_type": "code",
   "execution_count": null,
   "id": "c280573d-cd34-43bd-aa75-8c970dbb1243",
   "metadata": {},
   "outputs": [],
   "source": [
    "df.info()"
   ]
  },
  {
   "cell_type": "code",
   "execution_count": null,
   "id": "969672ae-9c82-4717-91fa-88009f806e67",
   "metadata": {},
   "outputs": [],
   "source": [
    "df['Chamadas Realizadas'] = df['Chamadas Realizadas'].astype(int)\n",
    "df['Dia'] = df['Dia'].astype(int)\n",
    "df['Mês'] = df['Mês'].astype(int)\n",
    "\n",
    "df['Valor Pago'] = df['Valor Pago'].str.lstrip('R$ ')\n",
    "df['Valor Pago'] = df['Valor Pago'].astype(int)"
   ]
  },
  {
   "cell_type": "code",
   "execution_count": null,
   "id": "e177b913-bc78-42c5-a1b9-ce93c04927f7",
   "metadata": {},
   "outputs": [],
   "source": [
    "df.loc[df['Status de Pagamento'] == 'Pago', 'Status de Pagamento'] = 1\n",
    "df.loc[df['Status de Pagamento'] == 'Não pago', 'Status de Pagamento'] = 0\n",
    "\n",
    "df['Status de Pagemento'] = df['Status de Pagamento'].astype(int)"
   ]
  },
  {
   "cell_type": "markdown",
   "id": "422fa104-17bc-420f-a5a1-c024531bf6d4",
   "metadata": {},
   "source": [
    "#### Vendas por Equipe"
   ]
  },
  {
   "cell_type": "code",
   "execution_count": null,
   "id": "ecf4d009-7763-4a98-8be8-b9e24e3f67c7",
   "metadata": {},
   "outputs": [],
   "source": [
    "df1 = df.groupby('Equipe')['Valor Pago'].sum().reset_index()"
   ]
  },
  {
   "cell_type": "code",
   "execution_count": null,
   "id": "e94143b5-b25a-4b5b-9208-ee47271d8b5e",
   "metadata": {},
   "outputs": [],
   "source": [
    "df1"
   ]
  },
  {
   "cell_type": "code",
   "execution_count": null,
   "id": "8cec0221-3f47-488a-bb7c-d2c65e81dfa0",
   "metadata": {},
   "outputs": [],
   "source": [
    "fig1 = go.Figure(go.Bar(\n",
    "    x=df1['Valor Pago'],\n",
    "    y=df1['Equipe'],\n",
    "    orientation='h',\n",
    "    textposition='auto',\n",
    "    text=df1['Valor Pago'],\n",
    "    insidetextfont=dict(family='Times', size=12)))"
   ]
  },
  {
   "cell_type": "code",
   "execution_count": null,
   "id": "98aa5d6e-11d3-457c-9038-05a645bb1c96",
   "metadata": {
    "scrolled": true
   },
   "outputs": [],
   "source": [
    "fig1.show()"
   ]
  },
  {
   "cell_type": "markdown",
   "id": "6ff45a7b-74bd-41d5-b8a1-3e0cb8fc66ba",
   "metadata": {},
   "source": [
    "#### Chamadas médias por dia do mês"
   ]
  },
  {
   "cell_type": "code",
   "execution_count": null,
   "id": "e796c088-ea2f-4482-88a1-62823e792dc4",
   "metadata": {},
   "outputs": [],
   "source": [
    "df2 = df.groupby('Dia')['Chamadas Realizadas'].sum().reset_index()"
   ]
  },
  {
   "cell_type": "code",
   "execution_count": null,
   "id": "3fe597d7-9f59-4e6c-8d84-79be6374520e",
   "metadata": {},
   "outputs": [],
   "source": [
    "fig2 = go.Figure(go.Scatter(\n",
    "    x=df2['Dia'], y=df2['Chamadas Realizadas'], mode='lines', fill='tonexty'))"
   ]
  },
  {
   "cell_type": "code",
   "execution_count": null,
   "id": "98a4c62f-430e-40da-931f-3a4449bb9f34",
   "metadata": {
    "scrolled": true
   },
   "outputs": [],
   "source": [
    "fig2.add_annotation(text='Chamadas Médias por dia do Mês',\n",
    "                    xref=\"paper\", yref=\"paper\",\n",
    "                    font=dict(\n",
    "                        size=20,\n",
    "                        color='gray'\n",
    "                    ),\n",
    "                    align='center', bgcolor=\"rgba(0,0,0,0.8)\",\n",
    "                    x=0.05, y=0.85, showarrow=False)\n",
    "fig2.add_annotation(text=f\"Média : {round(df2['Chamadas Realizadas'].mean(), 2)}\",\n",
    "                    xref=\"paper\", yref=\"paper\",\n",
    "                    font=dict(\n",
    "                        size=30,\n",
    "                        color='gray'\n",
    "                    ),\n",
    "                    align=\"center\", bgcolor=\"rgba(0,0,0,0.8)\",\n",
    "                    x=0.05, y=0.55, showarrow=False)"
   ]
  },
  {
   "cell_type": "markdown",
   "id": "270f6402-a5e4-4769-bad0-f3cf87b53ecd",
   "metadata": {},
   "source": [
    "#### Chamadas Médias por Mês"
   ]
  },
  {
   "cell_type": "code",
   "execution_count": null,
   "id": "765fa3ed-30f2-40ff-9b63-8d94d66e5321",
   "metadata": {},
   "outputs": [],
   "source": [
    "df3 = df.groupby('Mês')['Chamadas Realizadas'].sum().reset_index()"
   ]
  },
  {
   "cell_type": "code",
   "execution_count": null,
   "id": "755e7dba-b837-4929-b2b9-e92f6c9794c1",
   "metadata": {},
   "outputs": [],
   "source": [
    "df3"
   ]
  },
  {
   "cell_type": "code",
   "execution_count": null,
   "id": "5d21d017-15f0-4fe1-a5b6-eca18c10d26c",
   "metadata": {},
   "outputs": [],
   "source": [
    "fig3 = go.Figure(go.Scatter(\n",
    "    x=df3['Mês'], y=df3['Chamadas Realizadas'], mode='lines', fill='tonexty'))"
   ]
  },
  {
   "cell_type": "code",
   "execution_count": null,
   "id": "f64a39f9-7036-4bab-ae4f-e60582ac2c13",
   "metadata": {},
   "outputs": [],
   "source": [
    "fig3.add_annotation(text='Chamadas Médias por Mês',\n",
    "                    xref=\"paper\", yref=\"paper\",\n",
    "                    font=dict(\n",
    "                        size=20,\n",
    "                        color='gray'\n",
    "                    ),\n",
    "                    align=\"center\", bgcolor=\"rgba(0,0,0,0.8)\",\n",
    "                    x=0.05, y=0.85, showarrow=False)\n",
    "fig3.add_annotation(text=f\"Média: {round(df3['Chamadas Realizadas'].mean(), 2)}\",\n",
    "                   xref=\"paper\", yref=\"paper\",\n",
    "                    font=dict(\n",
    "                        size=30,\n",
    "                        color='gray'\n",
    "                    ),\n",
    "                    align=\"center\",bgcolor=\"rgba(0,0,0,0.8)\",\n",
    "                    x=0.05, y=0.55, showarrow=False)"
   ]
  },
  {
   "cell_type": "markdown",
   "id": "5e101f2e-3839-4aa2-8874-ec9c5897669d",
   "metadata": {},
   "source": [
    "#### Valores pagos por meio de propaganda"
   ]
  },
  {
   "cell_type": "code",
   "execution_count": null,
   "id": "0970439d-4012-4850-b27e-052d9d0f58b7",
   "metadata": {},
   "outputs": [],
   "source": [
    "df4 = df.groupby(['Meio de Propaganda', 'Mês'])['Valor Pago'].sum().reset_index()"
   ]
  },
  {
   "cell_type": "code",
   "execution_count": null,
   "id": "1410e48a-2412-4745-975e-627c7a296672",
   "metadata": {},
   "outputs": [],
   "source": [
    "fig4 = px.line(df4, y=\"Valor Pago\", x=\"Mês\", color=\"Meio de Propaganda\")\n",
    "fig4.show()"
   ]
  },
  {
   "cell_type": "markdown",
   "id": "ca14f41e-d9fa-4aae-a9de-8fbf9b84d9aa",
   "metadata": {},
   "source": [
    "#### Propaganda em PieChart \n",
    "provavelmente usar no mesmo card"
   ]
  },
  {
   "cell_type": "code",
   "execution_count": null,
   "id": "3106fd47-bfee-4f0c-bf8f-08a9e4fc5846",
   "metadata": {},
   "outputs": [],
   "source": [
    "df5 = df.groupby('Meio de Propaganda')['Valor Pago'].sum().reset_index()"
   ]
  },
  {
   "cell_type": "code",
   "execution_count": null,
   "id": "fd1050eb-28a4-4a22-9c0b-4fc4350e8037",
   "metadata": {},
   "outputs": [],
   "source": [
    "fig5 = go.Figure()\n",
    "fig5.add_trace(go.Pie(labels=df5['Meio de Propaganda'], values=df5['Valor Pago'], hole=.7))"
   ]
  },
  {
   "cell_type": "code",
   "execution_count": null,
   "id": "657be0f3-16d0-49db-9444-f96251d094a7",
   "metadata": {},
   "outputs": [],
   "source": [
    "df.columns"
   ]
  },
  {
   "cell_type": "markdown",
   "id": "89e0018c-2257-416e-b7d8-7d160a746050",
   "metadata": {},
   "source": [
    "#### Ganhos por Mês + segregação por equipe"
   ]
  },
  {
   "cell_type": "code",
   "execution_count": null,
   "id": "8777953b-499b-4830-bb04-a8653d31a82a",
   "metadata": {},
   "outputs": [],
   "source": [
    "df6 = df.groupby(['Mês', 'Equipe'])['Valor Pago'].sum().reset_index()\n",
    "df6_group = df.groupby('Mês')['Valor Pago'].sum().reset_index()"
   ]
  },
  {
   "cell_type": "code",
   "execution_count": null,
   "id": "98e84512-c596-466b-b80a-99b0d9c7dc29",
   "metadata": {},
   "outputs": [],
   "source": [
    "fig6 = px.line(df6, y=\"Valor Pago\", x=\"Mês\", color=\"Equipe\")"
   ]
  },
  {
   "cell_type": "code",
   "execution_count": null,
   "id": "2b1fc25e-8d96-4f8a-94b2-30a2213c4899",
   "metadata": {},
   "outputs": [],
   "source": [
    "fig6.add_trace(go.Scatter(y=df6_group[\"Valor Pago\"], x=df6_group['Mês'], mode='lines+markers', fill='tonexty', fillcolor='rgba(255,0,0,0.2)', name='Total de Vendas'))"
   ]
  },
  {
   "cell_type": "markdown",
   "id": "79a85a6e-b792-4c8f-8ec6-b36a4375cabf",
   "metadata": {},
   "source": [
    "#### Pagos e não pagos"
   ]
  },
  {
   "cell_type": "code",
   "execution_count": null,
   "id": "fa1680d0-564b-493c-83f0-d0be291879ad",
   "metadata": {},
   "outputs": [],
   "source": [
    "df61 = df.groupby('Status de Pagamento')['Chamadas Realizadas'].sum()"
   ]
  },
  {
   "cell_type": "code",
   "execution_count": null,
   "id": "c789db5d-8407-4011-b130-31e6265f6d2d",
   "metadata": {},
   "outputs": [],
   "source": [
    "fig61 = go.Figure()\n",
    "fig61.add_trace(go.Pie(\n",
    "        labels=['Não Pago', 'Pago'],\n",
    "        values=df61,\n",
    "        hole=.6\n",
    "    ))\n",
    "fig61.show()"
   ]
  },
  {
   "cell_type": "markdown",
   "id": "f56f6f61-0858-4aac-ba4f-0e7026e74d2f",
   "metadata": {},
   "source": [
    "## INDICATORS"
   ]
  },
  {
   "cell_type": "markdown",
   "id": "3c82c225-9d5b-4c65-a8ba-1e3041023148",
   "metadata": {},
   "source": [
    "Indicators - Melhor consultor"
   ]
  },
  {
   "cell_type": "code",
   "execution_count": null,
   "id": "384cde9c-be5d-45ae-a98f-5099a53cd4d2",
   "metadata": {},
   "outputs": [],
   "source": [
    "df7 = df.groupby(['Consultor', 'Equipe'])['Valor Pago'].sum()"
   ]
  },
  {
   "cell_type": "code",
   "execution_count": null,
   "id": "0ff325d4-2659-4033-a9ab-7ddb5b52641f",
   "metadata": {},
   "outputs": [],
   "source": [
    "df7.sort_values(ascending=False, inplace=True)"
   ]
  },
  {
   "cell_type": "code",
   "execution_count": null,
   "id": "983f2c10-7841-4c87-83ee-998615b1fd3d",
   "metadata": {},
   "outputs": [],
   "source": [
    "df7 = df7.reset_index()"
   ]
  },
  {
   "cell_type": "code",
   "execution_count": null,
   "id": "9b241674-1f8a-458d-969e-650b28600710",
   "metadata": {},
   "outputs": [],
   "source": [
    "df7"
   ]
  },
  {
   "cell_type": "code",
   "execution_count": null,
   "id": "15f19368-12ff-4e1a-ba10-3e09bed0a1bd",
   "metadata": {},
   "outputs": [],
   "source": [
    "fig7 = go.Figure()\n",
    "fig7.add_trace(go.Indicator(mode='number+delta', \n",
    "                            title = {\"text\": f\"<span style='font-size:150%'>{df7['Consultor'].iloc[0]} - Top Consultant</span><br><span style='font-size:70%'>Em vendas - em realação a média</span>\"},\n",
    "                            value = df7['Valor Pago'].iloc[0],\n",
    "                            number = {'prefix': \"R$\"},\n",
    "                            delta = {'relative': True, 'valueformat': '.1%', 'reference': df7['Valor Pago'].mean()}\n",
    "                            ))"
   ]
  },
  {
   "cell_type": "markdown",
   "id": "4e2563d7-5187-44b0-aa5d-d4c1b0de0719",
   "metadata": {},
   "source": [
    "Nesses cards de indicador, mostrar abaixo os valores dos top 5 - Equipes, Consultores"
   ]
  },
  {
   "cell_type": "markdown",
   "id": "bcc117fc-3495-46e3-9d52-12b0954f7f15",
   "metadata": {},
   "source": [
    "#### Indicators - Melhor Equipe"
   ]
  },
  {
   "cell_type": "code",
   "execution_count": null,
   "id": "575c11ff-ca6e-43d1-95c1-22287f74df02",
   "metadata": {},
   "outputs": [],
   "source": [
    "df8 = df.groupby('Equipe')['Valor Pago'].sum()\n",
    "df8.sort_values(ascending=False, inplace=True)\n",
    "df8 = df8.reset_index()"
   ]
  },
  {
   "cell_type": "code",
   "execution_count": null,
   "id": "45e36955-f4cd-4f55-b688-08267c886cb8",
   "metadata": {},
   "outputs": [],
   "source": [
    "df8"
   ]
  },
  {
   "cell_type": "code",
   "execution_count": null,
   "id": "052b024e-a664-417f-9ac0-9928c4d2d551",
   "metadata": {},
   "outputs": [],
   "source": [
    "fig8 = go.Figure()\n",
    "fig8.add_trace(go.Indicator(mode='number+delta',\n",
    "                            title = {\"text\": f\"<span style='font-size:150%'>{df8['Equipe'].iloc[0]} - Top Team</span><br><span style='font-size:70%'>Em vendas - em realação a média</span>\"},\n",
    "                            value = df8['Valor Pago'].iloc[0],\n",
    "                            number = {'prefix': \"R$\"},\n",
    "                            delta = {'relative': True, 'valueformat': '.1%', 'reference': df8['Valor Pago'].mean()}\n",
    "                           ))"
   ]
  },
  {
   "cell_type": "markdown",
   "id": "28e8ab75-1691-471a-96bb-d9e8b8aceca7",
   "metadata": {},
   "source": [
    "#### Indicator - Ganhos Totais"
   ]
  },
  {
   "cell_type": "code",
   "execution_count": null,
   "id": "f6674795-804f-48ee-9b95-001ecd414fd1",
   "metadata": {},
   "outputs": [],
   "source": [
    "fig9 = go.Figure()\n",
    "fig9.add_trace(go.Indicator(mode='number',\n",
    "                            title = {'text': f\"<span style='font-size:150%'>Valor Total</span><br><span style='font-size:70%'>Em Reais</span>\"},\n",
    "                            value = df['Valor Pago'].sum(),\n",
    "                            number = {'prefix': \"R$\"}\n",
    "                           ))"
   ]
  },
  {
   "cell_type": "markdown",
   "id": "a4c0a748-0400-4a0d-a02e-648934d37c31",
   "metadata": {},
   "source": [
    "#### Indicator -  Total de Chamadas"
   ]
  },
  {
   "cell_type": "code",
   "execution_count": null,
   "id": "b5a473e5-878e-41b1-a331-56aafa38a3c6",
   "metadata": {},
   "outputs": [],
   "source": [
    "fig10 = go.Figure()\n",
    "fig10.add_trace(go.Indicator(mode='number',\n",
    "                             title = {\"text\": f\"<span style:'font-size:150%'>Chamadas Realizadas</span>\"},\n",
    "                             value = len(df[df['Status de Pagamento'] == 1])\n",
    "                            ))"
   ]
  },
  {
   "cell_type": "markdown",
   "id": "02c75beb-2272-461c-9414-cf741f33b8e0",
   "metadata": {},
   "source": [
    "#### Top consultores por Equipe e seus valore de venda"
   ]
  },
  {
   "cell_type": "code",
   "execution_count": null,
   "id": "fe820deb-65bb-4049-b47e-bb84ce3993ed",
   "metadata": {},
   "outputs": [],
   "source": [
    "df12 = df.groupby(['Equipe', 'Consultor'])['Valor Pago'].sum().reset_index()"
   ]
  },
  {
   "cell_type": "code",
   "execution_count": null,
   "id": "586b5b1f-6f7c-469d-a485-442e18057055",
   "metadata": {},
   "outputs": [],
   "source": [
    "df13 = df.groupby(['Equipe', 'Consultor'])['Valor Pago'].sum()"
   ]
  },
  {
   "cell_type": "code",
   "execution_count": null,
   "id": "c8ce0e3f-513c-4664-9314-11efe40c2eec",
   "metadata": {},
   "outputs": [],
   "source": [
    "df13 = df13.sort_values(ascending=False)"
   ]
  },
  {
   "cell_type": "code",
   "execution_count": null,
   "id": "9036fb53-4faa-48c8-8048-9f7e478ef0d4",
   "metadata": {},
   "outputs": [],
   "source": [
    "df13 = df13.groupby('Equipe').head(1).reset_index()"
   ]
  },
  {
   "cell_type": "code",
   "execution_count": null,
   "id": "917819f5-37ec-41bf-a46a-5d10aa72645d",
   "metadata": {},
   "outputs": [],
   "source": [
    "df13"
   ]
  },
  {
   "cell_type": "markdown",
   "id": "513abd14-8d95-4c24-b6c8-7f39358402dc",
   "metadata": {},
   "source": [
    "#### Top Consultores + equipe por valor - PieChart"
   ]
  },
  {
   "cell_type": "code",
   "execution_count": null,
   "id": "e0db8fdf-57f5-42ce-ad6d-5d2722625789",
   "metadata": {},
   "outputs": [],
   "source": [
    "fig13 = go.Figure(go.Pie(\n",
    "    labels = df13['Consultor'] + ' - ' + df13['Equipe'],\n",
    "    values = df13['Valor Pago'],\n",
    "    hole = .6\n",
    "    ))\n",
    "fig13.show()"
   ]
  },
  {
   "cell_type": "markdown",
   "id": "199b2a09-894a-4ef6-894b-8f1e5ff64a4e",
   "metadata": {},
   "source": [
    "#### Top Consultores + Equipe por valor - BarChart"
   ]
  },
  {
   "cell_type": "code",
   "execution_count": null,
   "id": "3d036a87-cd26-4b96-95a4-863888b4e120",
   "metadata": {},
   "outputs": [],
   "source": [
    "fig14 = go.Figure(\n",
    "    go.Bar(\n",
    "        x=df13['Consultor'], y=df13['Valor Pago'],\n",
    "        textposition='auto', text=df13['Valor Pago']\n",
    "    ))\n",
    "fig14.show()"
   ]
  }
 ],
 "metadata": {
  "kernelspec": {
   "display_name": "Python 3 (ipykernel)",
   "language": "python",
   "name": "python3"
  },
  "language_info": {
   "codemirror_mode": {
    "name": "ipython",
    "version": 3
   },
   "file_extension": ".py",
   "mimetype": "text/x-python",
   "name": "python",
   "nbconvert_exporter": "python",
   "pygments_lexer": "ipython3",
   "version": "3.11.5"
  }
 },
 "nbformat": 4,
 "nbformat_minor": 5
}
